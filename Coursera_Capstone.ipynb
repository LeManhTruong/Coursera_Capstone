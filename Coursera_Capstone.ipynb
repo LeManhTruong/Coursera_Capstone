{
    "cells": [
        {
            "metadata": {},
            "cell_type": "markdown",
            "source": "[![Made withJupyter](https://img.shields.io/badge/Made%20with-Jupyter-orange?style=for-the-badge&logo=Jupyter)](https://jupyter.org/try)\n![Generic badge](https://img.shields.io/badge/python-3.7-blue.svg)\n![Generic badge](https://img.shields.io/badge/Status-Inprogress-green.svg)\n\n# Applied Data Science Capstone\n    \n## Infomation \n\n|Info| Detail|\n|:------|:------|\n|Owner| Truong Le|\n|Start day| Mar 21, 2021|\n|Status| Inprogress|\n|Course link| [here](https://www.coursera.org/learn/applied-data-science-capstone?specialization=ibm-data-science)|\n"
        },
        {
            "metadata": {
                "collapsed": true
            },
            "cell_type": "code",
            "source": "",
            "execution_count": null,
            "outputs": []
        }
    ],
    "metadata": {
        "kernelspec": {
            "name": "python3",
            "display_name": "Python 3.7",
            "language": "python"
        },
        "language_info": {
            "name": "python",
            "version": "3.7.10",
            "mimetype": "text/x-python",
            "codemirror_mode": {
                "name": "ipython",
                "version": 3
            },
            "pygments_lexer": "ipython3",
            "nbconvert_exporter": "python",
            "file_extension": ".py"
        }
    },
    "nbformat": 4,
    "nbformat_minor": 1
}