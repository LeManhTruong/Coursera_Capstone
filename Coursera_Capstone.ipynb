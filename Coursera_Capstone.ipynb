{
    "cells": [
        {
            "metadata": {},
            "cell_type": "markdown",
            "source": "<p>\n<a href=\"https://jupyter.org/try\">\n        <img src=\"https://img.shields.io/badge/Made%20with-Jupyter-orange?style=for-the-badge&logo=Jupyter\" align=\"left\"/>\n</a></p><br><br>\n<p>\n<a href=\"https://cloud.ibm.com/services\">\n    <img src=\"https://img.shields.io/badge/platform-IBM%20Watson%20Studio-navy.svg\" align=\"left\"/>\n</a>\n</p\n<a>\n    <img src=\"https://img.shields.io/badge/python-3.7-blue.svg\" align=\"left\"/>\n</a>\n<a>\n    <img src=\"https://img.shields.io/badge/Status-Inprogress-green.svg\" align=\"left\"/>\n</a>\n\n# Applied Data Science Capstone\n\nThis is repo use for course \"Applied Data Science Capstone\" on coursera.com\n\n    \n## Infomation \n\n|Info| Detail|\n|:------|:------|\n|Owner| Truong Le|\n|Start day| Mar 21, 2021|\n|Status| Inprogress|\n|Course link| [here](https://www.coursera.org/learn/applied-data-science-capstone?specialization=ibm-data-science)|\n"
        },
        {
            "metadata": {},
            "cell_type": "code",
            "source": "import pandas as pd\nimport numpy as np\n\nprint(\"Hello Capstone Project Course!\")",
            "execution_count": 1,
            "outputs": [
                {
                    "output_type": "stream",
                    "text": "Hello Capstone Project Course!\n",
                    "name": "stdout"
                }
            ]
        },
        {
            "metadata": {},
            "cell_type": "code",
            "source": "",
            "execution_count": null,
            "outputs": []
        }
    ],
    "metadata": {
        "kernelspec": {
            "name": "python3",
            "display_name": "Python 3.7",
            "language": "python"
        },
        "language_info": {
            "name": "python",
            "version": "3.7.10",
            "mimetype": "text/x-python",
            "codemirror_mode": {
                "name": "ipython",
                "version": 3
            },
            "pygments_lexer": "ipython3",
            "nbconvert_exporter": "python",
            "file_extension": ".py"
        }
    },
    "nbformat": 4,
    "nbformat_minor": 1
}